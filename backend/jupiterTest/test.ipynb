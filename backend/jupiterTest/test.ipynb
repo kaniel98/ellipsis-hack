{
 "cells": [
  {
   "cell_type": "code",
   "execution_count": null,
   "metadata": {},
   "outputs": [],
   "source": []
  }
 ],
 "metadata": {
  "kernelspec": {
   "display_name": "Python 3.9.13 64-bit (windows store)",
   "language": "python",
   "name": "python3"
  },
  "language_info": {
   "name": "python",
   "version": "3.9.13"
  },
  "orig_nbformat": 4,
  "vscode": {
   "interpreter": {
    "hash": "81ef62b9629656b79284b67fa5d3f59e1f97ce4af6d24f45afd7271de3405250"
   }
  }
 },
 "nbformat": 4,
 "nbformat_minor": 2
}
